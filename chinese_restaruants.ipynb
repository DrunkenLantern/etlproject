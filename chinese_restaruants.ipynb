{
 "cells": [
  {
   "cell_type": "code",
   "execution_count": 1,
   "metadata": {},
   "outputs": [],
   "source": [
    "# Import modules\n",
    "import pandas as pd\n",
    "import matplotlib.pyplot as plt\n",
    "import numpy as np\n",
    "import requests\n",
    "import pymongo\n",
    "\n",
    "# Google API Key\n",
    "from config import gkey\n",
    "\n",
    "# Download from https://www.kaggle.com/datasets?search=New+york+restaurant\n",
    "data_path = 'assets/ny_restaurant_data.csv'"
   ]
  },
  {
   "cell_type": "markdown",
   "metadata": {},
   "source": [
    "### New York"
   ]
  },
  {
   "cell_type": "code",
   "execution_count": 2,
   "metadata": {},
   "outputs": [
    {
     "data": {
      "text/html": [
       "<div>\n",
       "<style scoped>\n",
       "    .dataframe tbody tr th:only-of-type {\n",
       "        vertical-align: middle;\n",
       "    }\n",
       "\n",
       "    .dataframe tbody tr th {\n",
       "        vertical-align: top;\n",
       "    }\n",
       "\n",
       "    .dataframe thead th {\n",
       "        text-align: right;\n",
       "    }\n",
       "</style>\n",
       "<table border=\"1\" class=\"dataframe\">\n",
       "  <thead>\n",
       "    <tr style=\"text-align: right;\">\n",
       "      <th></th>\n",
       "      <th>Company_Name</th>\n",
       "      <th>Subindustry</th>\n",
       "      <th>Sub_Subindustry</th>\n",
       "      <th>Address</th>\n",
       "      <th>Phone</th>\n",
       "      <th>Website</th>\n",
       "      <th>Borough</th>\n",
       "      <th>Postcode</th>\n",
       "      <th>Latitude</th>\n",
       "      <th>Longitude</th>\n",
       "      <th>Community_Board</th>\n",
       "      <th>Community_Council_</th>\n",
       "      <th>Census_Tract</th>\n",
       "      <th>BIN</th>\n",
       "      <th>BBL</th>\n",
       "      <th>NTA</th>\n",
       "      <th>Location_1</th>\n",
       "    </tr>\n",
       "  </thead>\n",
       "  <tbody>\n",
       "    <tr>\n",
       "      <th>0</th>\n",
       "      <td>Europa Cafe</td>\n",
       "      <td>Café / Deli</td>\n",
       "      <td>NaN</td>\n",
       "      <td>3 Times Sq</td>\n",
       "      <td>212-239-0160</td>\n",
       "      <td>www.euorpacafe.com</td>\n",
       "      <td>1</td>\n",
       "      <td>10036.0</td>\n",
       "      <td>40.756376</td>\n",
       "      <td>-73.986713</td>\n",
       "      <td>5.0</td>\n",
       "      <td>3.0</td>\n",
       "      <td>119.0</td>\n",
       "      <td>1024686.0</td>\n",
       "      <td>1.010140e+09</td>\n",
       "      <td>Midtown-Midtown South                         ...</td>\n",
       "      <td>{'latitude': '40.756376', 'needs_recoding': Fa...</td>\n",
       "    </tr>\n",
       "  </tbody>\n",
       "</table>\n",
       "</div>"
      ],
      "text/plain": [
       "  Company_Name  Subindustry Sub_Subindustry     Address         Phone  \\\n",
       "0  Europa Cafe  Café / Deli             NaN  3 Times Sq  212-239-0160   \n",
       "\n",
       "              Website  Borough  Postcode   Latitude  Longitude  \\\n",
       "0  www.euorpacafe.com        1   10036.0  40.756376 -73.986713   \n",
       "\n",
       "   Community_Board  Community_Council_  Census_Tract        BIN           BBL  \\\n",
       "0              5.0                 3.0         119.0  1024686.0  1.010140e+09   \n",
       "\n",
       "                                                 NTA  \\\n",
       "0  Midtown-Midtown South                         ...   \n",
       "\n",
       "                                          Location_1  \n",
       "0  {'latitude': '40.756376', 'needs_recoding': Fa...  "
      ]
     },
     "execution_count": 2,
     "metadata": {},
     "output_type": "execute_result"
    }
   ],
   "source": [
    "# Instantiate a NY DataFrame from the downloaded CSV file\n",
    "NY_df = pd.read_csv(data_path)\n",
    "\n",
    "# Replace a space between a column name with _\n",
    "NY_df.columns = NY_df.columns.str.replace(' ','_')\n",
    "\n",
    "#  There are rows with NaN in the Sub_Subindustry column\n",
    "NY_df.head(1)"
   ]
  },
  {
   "cell_type": "code",
   "execution_count": 3,
   "metadata": {},
   "outputs": [
    {
     "data": {
      "text/html": [
       "<div>\n",
       "<style scoped>\n",
       "    .dataframe tbody tr th:only-of-type {\n",
       "        vertical-align: middle;\n",
       "    }\n",
       "\n",
       "    .dataframe tbody tr th {\n",
       "        vertical-align: top;\n",
       "    }\n",
       "\n",
       "    .dataframe thead th {\n",
       "        text-align: right;\n",
       "    }\n",
       "</style>\n",
       "<table border=\"1\" class=\"dataframe\">\n",
       "  <thead>\n",
       "    <tr style=\"text-align: right;\">\n",
       "      <th></th>\n",
       "      <th>Company_Name</th>\n",
       "      <th>Sub_Subindustry</th>\n",
       "      <th>Address</th>\n",
       "    </tr>\n",
       "  </thead>\n",
       "  <tbody>\n",
       "    <tr>\n",
       "      <th>1</th>\n",
       "      <td>Ranch 1</td>\n",
       "      <td>Fast Food</td>\n",
       "      <td>832 Eighth Ave</td>\n",
       "    </tr>\n",
       "    <tr>\n",
       "      <th>2</th>\n",
       "      <td>Sosa Borella</td>\n",
       "      <td>Argentinian</td>\n",
       "      <td>832 Eighth Ave</td>\n",
       "    </tr>\n",
       "  </tbody>\n",
       "</table>\n",
       "</div>"
      ],
      "text/plain": [
       "   Company_Name Sub_Subindustry         Address\n",
       "1       Ranch 1       Fast Food  832 Eighth Ave\n",
       "2  Sosa Borella     Argentinian  832 Eighth Ave"
      ]
     },
     "execution_count": 3,
     "metadata": {},
     "output_type": "execute_result"
    }
   ],
   "source": [
    "# Drop a row with NaN in the Sub_Subindustry column\n",
    "NY_cleaned_df = NY_df.dropna(subset=['Sub_Subindustry'])\n",
    "\n",
    "# Retrieve rows with selected columns\n",
    "NY_reduced_df = NY_cleaned_df[[\"Company_Name\", \"Sub_Subindustry\", \"Address\"]]\n",
    "\n",
    "# Show the first three rows\n",
    "NY_reduced_df.head(2)"
   ]
  },
  {
   "cell_type": "code",
   "execution_count": 4,
   "metadata": {},
   "outputs": [
    {
     "data": {
      "text/html": [
       "<div>\n",
       "<style scoped>\n",
       "    .dataframe tbody tr th:only-of-type {\n",
       "        vertical-align: middle;\n",
       "    }\n",
       "\n",
       "    .dataframe tbody tr th {\n",
       "        vertical-align: top;\n",
       "    }\n",
       "\n",
       "    .dataframe thead th {\n",
       "        text-align: right;\n",
       "    }\n",
       "</style>\n",
       "<table border=\"1\" class=\"dataframe\">\n",
       "  <thead>\n",
       "    <tr style=\"text-align: right;\">\n",
       "      <th></th>\n",
       "      <th>Name</th>\n",
       "      <th>Type</th>\n",
       "      <th>Address</th>\n",
       "    </tr>\n",
       "  </thead>\n",
       "  <tbody>\n",
       "    <tr>\n",
       "      <th>1</th>\n",
       "      <td>Ranch 1</td>\n",
       "      <td>Fast Food</td>\n",
       "      <td>832 Eighth Ave</td>\n",
       "    </tr>\n",
       "    <tr>\n",
       "      <th>2</th>\n",
       "      <td>Sosa Borella</td>\n",
       "      <td>Argentinian</td>\n",
       "      <td>832 Eighth Ave</td>\n",
       "    </tr>\n",
       "  </tbody>\n",
       "</table>\n",
       "</div>"
      ],
      "text/plain": [
       "           Name         Type         Address\n",
       "1       Ranch 1    Fast Food  832 Eighth Ave\n",
       "2  Sosa Borella  Argentinian  832 Eighth Ave"
      ]
     },
     "execution_count": 4,
     "metadata": {},
     "output_type": "execute_result"
    }
   ],
   "source": [
    "# Rename the columns to be more explanatory\n",
    "NY_renamed_df = NY_reduced_df.rename(columns={\"Company_Name\": \"Name\",  \"Sub_Subindustry\": \"Type\"})\n",
    "\n",
    "NY_renamed_df.head(2)"
   ]
  },
  {
   "cell_type": "code",
   "execution_count": 5,
   "metadata": {},
   "outputs": [
    {
     "data": {
      "text/html": [
       "<div>\n",
       "<style scoped>\n",
       "    .dataframe tbody tr th:only-of-type {\n",
       "        vertical-align: middle;\n",
       "    }\n",
       "\n",
       "    .dataframe tbody tr th {\n",
       "        vertical-align: top;\n",
       "    }\n",
       "\n",
       "    .dataframe thead th {\n",
       "        text-align: right;\n",
       "    }\n",
       "</style>\n",
       "<table border=\"1\" class=\"dataframe\">\n",
       "  <thead>\n",
       "    <tr style=\"text-align: right;\">\n",
       "      <th></th>\n",
       "      <th>Name</th>\n",
       "      <th>Type</th>\n",
       "      <th>Address</th>\n",
       "    </tr>\n",
       "  </thead>\n",
       "  <tbody>\n",
       "    <tr>\n",
       "      <th>5</th>\n",
       "      <td>China Gourmet</td>\n",
       "      <td>Chinese</td>\n",
       "      <td>877 Eighth Ave</td>\n",
       "    </tr>\n",
       "    <tr>\n",
       "      <th>62</th>\n",
       "      <td>John's Shanghai</td>\n",
       "      <td>Chinese</td>\n",
       "      <td>144 W 46th St</td>\n",
       "    </tr>\n",
       "  </tbody>\n",
       "</table>\n",
       "</div>"
      ],
      "text/plain": [
       "               Name     Type         Address\n",
       "5     China Gourmet  Chinese  877 Eighth Ave\n",
       "62  John's Shanghai  Chinese   144 W 46th St"
      ]
     },
     "execution_count": 5,
     "metadata": {},
     "output_type": "execute_result"
    }
   ],
   "source": [
    "# Filter by the value of Chinese in the column of Type\n",
    "NY_chinese_df = NY_renamed_df.loc[NY_renamed_df[\"Type\"] == \"Chinese\", :]\n",
    "\n",
    "NY_chinese_df.head(2)"
   ]
  },
  {
   "cell_type": "code",
   "execution_count": 6,
   "metadata": {},
   "outputs": [],
   "source": [
    "# connect to Mongo database\n",
    "conn = 'mongodb://localhost:27017'\n",
    "client = pymongo.MongoClient(conn)\n",
    "\n",
    "# Create a db called Restaurants_db\n",
    "db = client.Restaurants_db\n",
    "\n",
    "# DB collect name is items\n",
    "collection = db.items"
   ]
  },
  {
   "cell_type": "code",
   "execution_count": 7,
   "metadata": {},
   "outputs": [],
   "source": [
    "# Read the row from NY_chinese_df to create a dictory\n",
    "for _, row in NY_chinese_df.iterrows():\n",
    "    dic = {\n",
    "        'Name':row[\"Name\"],\n",
    "        'Type': row[\"Type\"],\n",
    "        'Address':row[\"Address\"] + \", New York City\"\n",
    "    }\n",
    "    \n",
    "    #insert dictionary into mongo    \n",
    "    collection.insert_one(dic)"
   ]
  },
  {
   "cell_type": "markdown",
   "metadata": {},
   "source": [
    "### San Francisco"
   ]
  },
  {
   "cell_type": "code",
   "execution_count": 8,
   "metadata": {},
   "outputs": [],
   "source": [
    "# find the Chinese restaurant in San Francisco\n",
    "base_url = \"https://maps.googleapis.com/maps/api/place/nearbysearch/json\"\n",
    "\n",
    "params = {\n",
    "    \"location\": \"37.773972,-122.431297\",  # San Francisco coords\n",
    "    \"rankby\": \"distance\",\n",
    "    \"type\": \"restaurant\",\n",
    "    \"key\": gkey,\n",
    "    \"keyword\": \"chinese\"\n",
    "}"
   ]
  },
  {
   "cell_type": "code",
   "execution_count": 9,
   "metadata": {},
   "outputs": [],
   "source": [
    "# Retrieve data in json format\n",
    "response = requests.get(base_url, params=params).json()\n",
    "    \n",
    "# extract results\n",
    "results = response['results']"
   ]
  },
  {
   "cell_type": "code",
   "execution_count": 10,
   "metadata": {},
   "outputs": [],
   "source": [
    "# Read the row from NY_chinese_df to create a dictory\n",
    "for row in results: \n",
    "    dic = {\n",
    "        'Name': row[\"name\"],\n",
    "        'Type': \"Chinese\",\n",
    "        'Address': row['vicinity']\n",
    "    }\n",
    "    \n",
    "    #insert dictionary into mongo    \n",
    "    collection.insert_one(dic)"
   ]
  },
  {
   "cell_type": "code",
   "execution_count": null,
   "metadata": {},
   "outputs": [],
   "source": []
  }
 ],
 "metadata": {
  "kernelspec": {
   "display_name": "Python 3",
   "language": "python",
   "name": "python3"
  },
  "language_info": {
   "codemirror_mode": {
    "name": "ipython",
    "version": 3
   },
   "file_extension": ".py",
   "mimetype": "text/x-python",
   "name": "python",
   "nbconvert_exporter": "python",
   "pygments_lexer": "ipython3",
   "version": "3.7.3"
  }
 },
 "nbformat": 4,
 "nbformat_minor": 2
}
